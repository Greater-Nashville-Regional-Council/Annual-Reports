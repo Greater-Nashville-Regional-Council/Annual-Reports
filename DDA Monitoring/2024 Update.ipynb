{
 "cells": [
  {
   "cell_type": "markdown",
   "id": "fe6ff033",
   "metadata": {},
   "source": [
    "## Import packages"
   ]
  },
  {
   "cell_type": "code",
   "execution_count": 21,
   "id": "733975a4",
   "metadata": {},
   "outputs": [],
   "source": [
    "import requests\n",
    "import json\n",
    "import pandas as pd\n",
    "import pickle\n",
    "from functools import reduce\n",
    "import sys\n",
    "sys.path.append(\"../../Functions and Dictionaries\") # Adds higher directory to python modules path\n",
    "import geodict\n",
    "tnpumadict = geodict.tnpumadict\n",
    "import sqlite3 as sq"
   ]
  },
  {
   "cell_type": "markdown",
   "id": "041efad5",
   "metadata": {},
   "source": [
    "## Requested:  \n",
    "+ Total Population  \n",
    "+ Minority Population  \n",
    "+ % Population that is a Minority  \n",
    "+ 60+ Population  \n",
    "+ % Population that is 60+  \n",
    "+ 60+ Minority Population  \n",
    "+ % of 60+ Population that is a Minority"
   ]
  },
  {
   "cell_type": "markdown",
   "id": "dd15699c",
   "metadata": {},
   "source": [
    "Counties: Cheatham, Davidson, Dickson, Houston, Humphreys, Montgomery, Robertson, Rutherford, Stewart, Sumner, Trousdale, Williamson, Wilson (13 County Region)"
   ]
  },
  {
   "cell_type": "code",
   "execution_count": 25,
   "id": "e61b7384",
   "metadata": {},
   "outputs": [],
   "source": [
    "conn = sq.connect('../../Pipeline-Census-Bureau/Outputs/CensusBureau.db')\n",
    "#Demographic PEP\n",
    "sql_query = pd.read_sql('SELECT * FROM [PEP_Demographic]', conn)\n",
    "data = pd.DataFrame(sql_query)\n",
    "thelist = ['Cheatham County', 'Davidson County', 'Dickson County', 'Houston County', 'Humphreys County', 'Montgomery County', 'Robertson County', \n",
    "           'Rutherford County', 'Stewart County', 'Sumner County', 'Trousdale County', 'Williamson County', 'Wilson County', 'GNRC']\n",
    "data = data.loc[(data['Age Group'] == '60 and Older')|(data['Age Group'] == 'Total')]\n",
    "data = data.loc[(data['NAME'].isin(thelist))&(data['Year'] == '2023')]\n",
    "data = data[['Age Group', 'Year', 'NAME', 'Population', 'Minority', 'Minority %']].reset_index(drop = True)\n",
    "data['Source'] = '2023 Population Estimates, Census Bureau'"
   ]
  },
  {
   "cell_type": "code",
   "execution_count": 26,
   "id": "b5febbee",
   "metadata": {},
   "outputs": [
    {
     "data": {
      "text/html": [
       "<div>\n",
       "<style scoped>\n",
       "    .dataframe tbody tr th:only-of-type {\n",
       "        vertical-align: middle;\n",
       "    }\n",
       "\n",
       "    .dataframe tbody tr th {\n",
       "        vertical-align: top;\n",
       "    }\n",
       "\n",
       "    .dataframe thead th {\n",
       "        text-align: right;\n",
       "    }\n",
       "</style>\n",
       "<table border=\"1\" class=\"dataframe\">\n",
       "  <thead>\n",
       "    <tr style=\"text-align: right;\">\n",
       "      <th></th>\n",
       "      <th>Age Group</th>\n",
       "      <th>Year</th>\n",
       "      <th>NAME</th>\n",
       "      <th>Population</th>\n",
       "      <th>Minority</th>\n",
       "      <th>Minority %</th>\n",
       "      <th>Source</th>\n",
       "    </tr>\n",
       "  </thead>\n",
       "  <tbody>\n",
       "    <tr>\n",
       "      <th>0</th>\n",
       "      <td>Total</td>\n",
       "      <td>2023</td>\n",
       "      <td>Cheatham County</td>\n",
       "      <td>42254</td>\n",
       "      <td>4529</td>\n",
       "      <td>10.718512</td>\n",
       "      <td>2023 Population Estimates, Census Bureau</td>\n",
       "    </tr>\n",
       "    <tr>\n",
       "      <th>1</th>\n",
       "      <td>Total</td>\n",
       "      <td>2023</td>\n",
       "      <td>Davidson County</td>\n",
       "      <td>712334</td>\n",
       "      <td>323504</td>\n",
       "      <td>45.414651</td>\n",
       "      <td>2023 Population Estimates, Census Bureau</td>\n",
       "    </tr>\n",
       "    <tr>\n",
       "      <th>2</th>\n",
       "      <td>Total</td>\n",
       "      <td>2023</td>\n",
       "      <td>Dickson County</td>\n",
       "      <td>56729</td>\n",
       "      <td>6946</td>\n",
       "      <td>12.244178</td>\n",
       "      <td>2023 Population Estimates, Census Bureau</td>\n",
       "    </tr>\n",
       "    <tr>\n",
       "      <th>3</th>\n",
       "      <td>Total</td>\n",
       "      <td>2023</td>\n",
       "      <td>Houston County</td>\n",
       "      <td>8393</td>\n",
       "      <td>835</td>\n",
       "      <td>9.948767</td>\n",
       "      <td>2023 Population Estimates, Census Bureau</td>\n",
       "    </tr>\n",
       "    <tr>\n",
       "      <th>4</th>\n",
       "      <td>Total</td>\n",
       "      <td>2023</td>\n",
       "      <td>Humphreys County</td>\n",
       "      <td>19209</td>\n",
       "      <td>1767</td>\n",
       "      <td>9.198813</td>\n",
       "      <td>2023 Population Estimates, Census Bureau</td>\n",
       "    </tr>\n",
       "  </tbody>\n",
       "</table>\n",
       "</div>"
      ],
      "text/plain": [
       "  Age Group  Year              NAME  Population  Minority  Minority %  \\\n",
       "0     Total  2023   Cheatham County       42254      4529   10.718512   \n",
       "1     Total  2023   Davidson County      712334    323504   45.414651   \n",
       "2     Total  2023    Dickson County       56729      6946   12.244178   \n",
       "3     Total  2023    Houston County        8393       835    9.948767   \n",
       "4     Total  2023  Humphreys County       19209      1767    9.198813   \n",
       "\n",
       "                                     Source  \n",
       "0  2023 Population Estimates, Census Bureau  \n",
       "1  2023 Population Estimates, Census Bureau  \n",
       "2  2023 Population Estimates, Census Bureau  \n",
       "3  2023 Population Estimates, Census Bureau  \n",
       "4  2023 Population Estimates, Census Bureau  "
      ]
     },
     "execution_count": 26,
     "metadata": {},
     "output_type": "execute_result"
    }
   ],
   "source": [
    "data.head()"
   ]
  },
  {
   "cell_type": "code",
   "execution_count": 27,
   "id": "a30565e8",
   "metadata": {},
   "outputs": [],
   "source": [
    "data.to_csv('../Data/2024DDA.csv', index = False)"
   ]
  },
  {
   "cell_type": "code",
   "execution_count": null,
   "id": "8892a6ac",
   "metadata": {},
   "outputs": [],
   "source": []
  }
 ],
 "metadata": {
  "kernelspec": {
   "display_name": "Python 3 (ipykernel)",
   "language": "python",
   "name": "python3"
  },
  "language_info": {
   "codemirror_mode": {
    "name": "ipython",
    "version": 3
   },
   "file_extension": ".py",
   "mimetype": "text/x-python",
   "name": "python",
   "nbconvert_exporter": "python",
   "pygments_lexer": "ipython3",
   "version": "3.11.5"
  }
 },
 "nbformat": 4,
 "nbformat_minor": 5
}
